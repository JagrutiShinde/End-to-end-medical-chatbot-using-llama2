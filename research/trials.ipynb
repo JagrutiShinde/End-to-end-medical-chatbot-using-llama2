{
 "cells": [
  {
   "cell_type": "code",
   "execution_count": 1,
   "metadata": {},
   "outputs": [
    {
     "name": "stdout",
     "output_type": "stream",
     "text": [
      "ok\n"
     ]
    }
   ],
   "source": [
    "print(\"ok\")"
   ]
  },
  {
   "cell_type": "code",
   "execution_count": 3,
   "metadata": {},
   "outputs": [
    {
     "name": "stdout",
     "output_type": "stream",
     "text": [
      "Collecting langchain==0.0.225\n",
      "  Using cached langchain-0.0.225-py3-none-any.whl.metadata (13 kB)\n",
      "Collecting PyYAML>=5.4.1 (from langchain==0.0.225)\n",
      "  Using cached PyYAML-6.0.1-cp38-cp38-win_amd64.whl.metadata (2.1 kB)\n",
      "Collecting SQLAlchemy<3,>=1.4 (from langchain==0.0.225)\n",
      "  Using cached SQLAlchemy-2.0.23-cp38-cp38-win_amd64.whl.metadata (9.8 kB)\n",
      "Collecting aiohttp<4.0.0,>=3.8.3 (from langchain==0.0.225)\n",
      "  Using cached aiohttp-3.9.1-cp38-cp38-win_amd64.whl.metadata (7.6 kB)\n",
      "Collecting async-timeout<5.0.0,>=4.0.0 (from langchain==0.0.225)\n",
      "  Using cached async_timeout-4.0.3-py3-none-any.whl.metadata (4.2 kB)\n",
      "Collecting dataclasses-json<0.6.0,>=0.5.7 (from langchain==0.0.225)\n",
      "  Using cached dataclasses_json-0.5.14-py3-none-any.whl.metadata (22 kB)\n",
      "Collecting langchainplus-sdk<0.0.21,>=0.0.20 (from langchain==0.0.225)\n",
      "  Using cached langchainplus_sdk-0.0.20-py3-none-any.whl.metadata (8.7 kB)\n",
      "Collecting numexpr<3.0.0,>=2.8.4 (from langchain==0.0.225)\n",
      "  Downloading numexpr-2.8.6-cp38-cp38-win_amd64.whl.metadata (8.2 kB)\n",
      "Collecting numpy<2,>=1 (from langchain==0.0.225)\n",
      "  Using cached numpy-1.24.4-cp38-cp38-win_amd64.whl.metadata (5.6 kB)\n",
      "Collecting openapi-schema-pydantic<2.0,>=1.2 (from langchain==0.0.225)\n",
      "  Using cached openapi_schema_pydantic-1.2.4-py3-none-any.whl (90 kB)\n",
      "Collecting pydantic<2,>=1 (from langchain==0.0.225)\n",
      "  Downloading pydantic-1.10.13-cp38-cp38-win_amd64.whl.metadata (150 kB)\n",
      "     ---------------------------------------- 0.0/150.9 kB ? eta -:--:--\n",
      "     ---------------------------- --------- 112.6/150.9 kB 2.2 MB/s eta 0:00:01\n",
      "     ------------------------------------ - 143.4/150.9 kB 2.9 MB/s eta 0:00:01\n",
      "     ------------------------------------ - 143.4/150.9 kB 2.9 MB/s eta 0:00:01\n",
      "     ------------------------------------ - 143.4/150.9 kB 2.9 MB/s eta 0:00:01\n",
      "     ------------------------------------ - 143.4/150.9 kB 2.9 MB/s eta 0:00:01\n",
      "     ------------------------------------ 150.9/150.9 kB 500.7 kB/s eta 0:00:00\n",
      "Collecting requests<3,>=2 (from langchain==0.0.225)\n",
      "  Using cached requests-2.31.0-py3-none-any.whl.metadata (4.6 kB)\n",
      "Collecting tenacity<9.0.0,>=8.1.0 (from langchain==0.0.225)\n",
      "  Using cached tenacity-8.2.3-py3-none-any.whl.metadata (1.0 kB)\n",
      "Collecting attrs>=17.3.0 (from aiohttp<4.0.0,>=3.8.3->langchain==0.0.225)\n",
      "  Using cached attrs-23.1.0-py3-none-any.whl (61 kB)\n",
      "Collecting multidict<7.0,>=4.5 (from aiohttp<4.0.0,>=3.8.3->langchain==0.0.225)\n",
      "  Using cached multidict-6.0.4-cp38-cp38-win_amd64.whl (28 kB)\n",
      "Collecting yarl<2.0,>=1.0 (from aiohttp<4.0.0,>=3.8.3->langchain==0.0.225)\n",
      "  Using cached yarl-1.9.4-cp38-cp38-win_amd64.whl.metadata (32 kB)\n",
      "Collecting frozenlist>=1.1.1 (from aiohttp<4.0.0,>=3.8.3->langchain==0.0.225)\n",
      "  Downloading frozenlist-1.4.1-cp38-cp38-win_amd64.whl.metadata (12 kB)\n",
      "Collecting aiosignal>=1.1.2 (from aiohttp<4.0.0,>=3.8.3->langchain==0.0.225)\n",
      "  Using cached aiosignal-1.3.1-py3-none-any.whl (7.6 kB)\n",
      "Collecting marshmallow<4.0.0,>=3.18.0 (from dataclasses-json<0.6.0,>=0.5.7->langchain==0.0.225)\n",
      "  Using cached marshmallow-3.20.1-py3-none-any.whl.metadata (7.8 kB)\n",
      "Collecting typing-inspect<1,>=0.4.0 (from dataclasses-json<0.6.0,>=0.5.7->langchain==0.0.225)\n",
      "  Using cached typing_inspect-0.9.0-py3-none-any.whl.metadata (1.5 kB)\n",
      "Requirement already satisfied: typing-extensions>=4.2.0 in c:\\users\\jagru\\anaconda3\\envs\\medicalchatbot\\lib\\site-packages (from pydantic<2,>=1->langchain==0.0.225) (4.9.0)\n",
      "Collecting charset-normalizer<4,>=2 (from requests<3,>=2->langchain==0.0.225)\n",
      "  Using cached charset_normalizer-3.3.2-cp38-cp38-win_amd64.whl.metadata (34 kB)\n",
      "Collecting idna<4,>=2.5 (from requests<3,>=2->langchain==0.0.225)\n",
      "  Using cached idna-3.6-py3-none-any.whl.metadata (9.9 kB)\n",
      "Collecting urllib3<3,>=1.21.1 (from requests<3,>=2->langchain==0.0.225)\n",
      "  Using cached urllib3-2.1.0-py3-none-any.whl.metadata (6.4 kB)\n",
      "Collecting certifi>=2017.4.17 (from requests<3,>=2->langchain==0.0.225)\n",
      "  Using cached certifi-2023.11.17-py3-none-any.whl.metadata (2.2 kB)\n",
      "Collecting greenlet!=0.4.17 (from SQLAlchemy<3,>=1.4->langchain==0.0.225)\n",
      "  Using cached greenlet-3.0.2-cp38-cp38-win_amd64.whl.metadata (3.8 kB)\n",
      "Requirement already satisfied: packaging>=17.0 in c:\\users\\jagru\\anaconda3\\envs\\medicalchatbot\\lib\\site-packages (from marshmallow<4.0.0,>=3.18.0->dataclasses-json<0.6.0,>=0.5.7->langchain==0.0.225) (23.2)\n",
      "Collecting mypy-extensions>=0.3.0 (from typing-inspect<1,>=0.4.0->dataclasses-json<0.6.0,>=0.5.7->langchain==0.0.225)\n",
      "  Using cached mypy_extensions-1.0.0-py3-none-any.whl (4.7 kB)\n",
      "Using cached langchain-0.0.225-py3-none-any.whl (1.2 MB)\n",
      "Using cached aiohttp-3.9.1-cp38-cp38-win_amd64.whl (367 kB)\n",
      "Using cached async_timeout-4.0.3-py3-none-any.whl (5.7 kB)\n",
      "Using cached dataclasses_json-0.5.14-py3-none-any.whl (26 kB)\n",
      "Using cached langchainplus_sdk-0.0.20-py3-none-any.whl (25 kB)\n",
      "Downloading numexpr-2.8.6-cp38-cp38-win_amd64.whl (94 kB)\n",
      "   ---------------------------------------- 0.0/95.0 kB ? eta -:--:--\n",
      "   -------------------------------------- - 92.2/95.0 kB 5.5 MB/s eta 0:00:01\n",
      "   -------------------------------------- - 92.2/95.0 kB 5.5 MB/s eta 0:00:01\n",
      "   ---------------------------------------- 95.0/95.0 kB 605.1 kB/s eta 0:00:00\n",
      "Using cached numpy-1.24.4-cp38-cp38-win_amd64.whl (14.9 MB)\n",
      "Downloading pydantic-1.10.13-cp38-cp38-win_amd64.whl (2.2 MB)\n",
      "   ---------------------------------------- 0.0/2.2 MB ? eta -:--:--\n",
      "   ------ --------------------------------- 0.4/2.2 MB 7.4 MB/s eta 0:00:01\n",
      "   ----------- ---------------------------- 0.7/2.2 MB 6.0 MB/s eta 0:00:01\n",
      "   ----------------- ---------------------- 1.0/2.2 MB 5.7 MB/s eta 0:00:01\n",
      "   ----------------------- ---------------- 1.3/2.2 MB 5.5 MB/s eta 0:00:01\n",
      "   --------------------------- ------------ 1.5/2.2 MB 5.4 MB/s eta 0:00:01\n",
      "   ------------------------------- -------- 1.7/2.2 MB 5.0 MB/s eta 0:00:01\n",
      "   ------------------------------------ --- 2.0/2.2 MB 5.0 MB/s eta 0:00:01\n",
      "   ---------------------------------------  2.2/2.2 MB 5.1 MB/s eta 0:00:01\n",
      "   ---------------------------------------  2.2/2.2 MB 5.1 MB/s eta 0:00:01\n",
      "   ---------------------------------------  2.2/2.2 MB 5.1 MB/s eta 0:00:01\n",
      "   ---------------------------------------  2.2/2.2 MB 5.1 MB/s eta 0:00:01\n",
      "   ---------------------------------------  2.2/2.2 MB 5.1 MB/s eta 0:00:01\n",
      "   ---------------------------------------- 2.2/2.2 MB 3.0 MB/s eta 0:00:00\n",
      "Using cached PyYAML-6.0.1-cp38-cp38-win_amd64.whl (157 kB)\n",
      "Using cached requests-2.31.0-py3-none-any.whl (62 kB)\n",
      "Using cached SQLAlchemy-2.0.23-cp38-cp38-win_amd64.whl (2.1 MB)\n",
      "Using cached tenacity-8.2.3-py3-none-any.whl (24 kB)\n",
      "Using cached certifi-2023.11.17-py3-none-any.whl (162 kB)\n",
      "Using cached charset_normalizer-3.3.2-cp38-cp38-win_amd64.whl (99 kB)\n",
      "Downloading frozenlist-1.4.1-cp38-cp38-win_amd64.whl (50 kB)\n",
      "   ---------------------------------------- 0.0/50.8 kB ? eta -:--:--\n",
      "   -------------------------------- ------- 41.0/50.8 kB 1.9 MB/s eta 0:00:01\n",
      "   -------------------------------- ------- 41.0/50.8 kB 1.9 MB/s eta 0:00:01\n",
      "   -------------------------------- ------- 41.0/50.8 kB 1.9 MB/s eta 0:00:01\n",
      "   ---------------------------------------- 50.8/50.8 kB 235.9 kB/s eta 0:00:00\n",
      "Using cached greenlet-3.0.2-cp38-cp38-win_amd64.whl (287 kB)\n",
      "Using cached idna-3.6-py3-none-any.whl (61 kB)\n",
      "Using cached marshmallow-3.20.1-py3-none-any.whl (49 kB)\n",
      "Using cached typing_inspect-0.9.0-py3-none-any.whl (8.8 kB)\n",
      "Using cached urllib3-2.1.0-py3-none-any.whl (104 kB)\n",
      "Using cached yarl-1.9.4-cp38-cp38-win_amd64.whl (77 kB)\n",
      "Installing collected packages: urllib3, tenacity, PyYAML, pydantic, numpy, mypy-extensions, multidict, marshmallow, idna, greenlet, frozenlist, charset-normalizer, certifi, attrs, async-timeout, yarl, typing-inspect, SQLAlchemy, requests, openapi-schema-pydantic, numexpr, aiosignal, langchainplus-sdk, dataclasses-json, aiohttp, langchain\n",
      "Successfully installed PyYAML-6.0.1 SQLAlchemy-2.0.23 aiohttp-3.9.1 aiosignal-1.3.1 async-timeout-4.0.3 attrs-23.1.0 certifi-2023.11.17 charset-normalizer-3.3.2 dataclasses-json-0.5.14 frozenlist-1.4.1 greenlet-3.0.2 idna-3.6 langchain-0.0.225 langchainplus-sdk-0.0.20 marshmallow-3.20.1 multidict-6.0.4 mypy-extensions-1.0.0 numexpr-2.8.6 numpy-1.24.4 openapi-schema-pydantic-1.2.4 pydantic-1.10.13 requests-2.31.0 tenacity-8.2.3 typing-inspect-0.9.0 urllib3-2.1.0 yarl-1.9.4\n"
     ]
    }
   ],
   "source": [
    "!pip install langchain==0.0.225"
   ]
  },
  {
   "cell_type": "code",
   "execution_count": 7,
   "metadata": {},
   "outputs": [
    {
     "name": "stdout",
     "output_type": "stream",
     "text": [
      "Collecting pinecone-client\n",
      "  Using cached pinecone_client-2.2.4-py3-none-any.whl.metadata (7.8 kB)\n",
      "Requirement already satisfied: requests>=2.19.0 in c:\\users\\jagru\\anaconda3\\envs\\medicalchatbot\\lib\\site-packages (from pinecone-client) (2.31.0)\n",
      "Requirement already satisfied: pyyaml>=5.4 in c:\\users\\jagru\\anaconda3\\envs\\medicalchatbot\\lib\\site-packages (from pinecone-client) (6.0.1)\n",
      "Collecting loguru>=0.5.0 (from pinecone-client)\n",
      "  Using cached loguru-0.7.2-py3-none-any.whl.metadata (23 kB)\n",
      "Requirement already satisfied: typing-extensions>=3.7.4 in c:\\users\\jagru\\anaconda3\\envs\\medicalchatbot\\lib\\site-packages (from pinecone-client) (4.9.0)\n",
      "Collecting dnspython>=2.0.0 (from pinecone-client)\n",
      "  Using cached dnspython-2.4.2-py3-none-any.whl.metadata (4.9 kB)\n",
      "Requirement already satisfied: python-dateutil>=2.5.3 in c:\\users\\jagru\\anaconda3\\envs\\medicalchatbot\\lib\\site-packages (from pinecone-client) (2.8.2)\n",
      "Requirement already satisfied: urllib3>=1.21.1 in c:\\users\\jagru\\anaconda3\\envs\\medicalchatbot\\lib\\site-packages (from pinecone-client) (2.1.0)\n",
      "Collecting tqdm>=4.64.1 (from pinecone-client)\n",
      "  Using cached tqdm-4.66.1-py3-none-any.whl.metadata (57 kB)\n",
      "Requirement already satisfied: numpy>=1.22.0 in c:\\users\\jagru\\anaconda3\\envs\\medicalchatbot\\lib\\site-packages (from pinecone-client) (1.24.4)\n",
      "Requirement already satisfied: colorama>=0.3.4 in c:\\users\\jagru\\anaconda3\\envs\\medicalchatbot\\lib\\site-packages (from loguru>=0.5.0->pinecone-client) (0.4.6)\n",
      "Collecting win32-setctime>=1.0.0 (from loguru>=0.5.0->pinecone-client)\n",
      "  Using cached win32_setctime-1.1.0-py3-none-any.whl (3.6 kB)\n",
      "Requirement already satisfied: six>=1.5 in c:\\users\\jagru\\anaconda3\\envs\\medicalchatbot\\lib\\site-packages (from python-dateutil>=2.5.3->pinecone-client) (1.16.0)\n",
      "Requirement already satisfied: charset-normalizer<4,>=2 in c:\\users\\jagru\\anaconda3\\envs\\medicalchatbot\\lib\\site-packages (from requests>=2.19.0->pinecone-client) (3.3.2)\n",
      "Requirement already satisfied: idna<4,>=2.5 in c:\\users\\jagru\\anaconda3\\envs\\medicalchatbot\\lib\\site-packages (from requests>=2.19.0->pinecone-client) (3.6)\n",
      "Requirement already satisfied: certifi>=2017.4.17 in c:\\users\\jagru\\anaconda3\\envs\\medicalchatbot\\lib\\site-packages (from requests>=2.19.0->pinecone-client) (2023.11.17)\n",
      "Using cached pinecone_client-2.2.4-py3-none-any.whl (179 kB)\n",
      "Using cached dnspython-2.4.2-py3-none-any.whl (300 kB)\n",
      "Using cached loguru-0.7.2-py3-none-any.whl (62 kB)\n",
      "Using cached tqdm-4.66.1-py3-none-any.whl (78 kB)\n",
      "Installing collected packages: win32-setctime, tqdm, dnspython, loguru, pinecone-client\n",
      "Successfully installed dnspython-2.4.2 loguru-0.7.2 pinecone-client-2.2.4 tqdm-4.66.1 win32-setctime-1.1.0\n"
     ]
    }
   ],
   "source": [
    "!pip install pinecone-client\n"
   ]
  },
  {
   "cell_type": "code",
   "execution_count": 8,
   "metadata": {},
   "outputs": [
    {
     "name": "stderr",
     "output_type": "stream",
     "text": [
      "c:\\Users\\jagru\\anaconda3\\envs\\medicalchatbot\\lib\\site-packages\\pinecone\\index.py:4: TqdmWarning: IProgress not found. Please update jupyter and ipywidgets. See https://ipywidgets.readthedocs.io/en/stable/user_install.html\n",
      "  from tqdm.autonotebook import tqdm\n"
     ]
    }
   ],
   "source": [
    "from langchain import PromptTemplate\n",
    "from langchain.chains import RetrievalQA\n",
    "from langchain.embeddings import HuggingFaceEmbeddings\n",
    "from langchain.vectorstores import Pinecone\n",
    "import pinecone\n",
    "from langchain.document_loaders import PyPDFLoader, DirectoryLoader\n",
    "from langchain.text_splitter import RecursiveCharacterTextSplitter\n",
    "from langchain.prompts import PromptTemplate\n",
    "from langchain.llms import CTransformers"
   ]
  },
  {
   "cell_type": "code",
   "execution_count": 9,
   "metadata": {},
   "outputs": [],
   "source": [
    "PINECONE_API_KEY = \"ee6b6614-de35-4a01-9f77-ac128ac3fc3e\"\n",
    "PINECONE_API_ENV = \"gcp-starter\"\n"
   ]
  },
  {
   "cell_type": "code",
   "execution_count": null,
   "metadata": {},
   "outputs": [],
   "source": [
    "#extract data from pdf\n",
    "def load_pdf(data):\n",
    "    loader = DirectoryLoader(data,\n",
    "                    glob=\"*.pdf\"\n",
    "                    loader_cls=PyPDFLoader\n",
    "                    )\n",
    "    documents = loader.load()\n",
    "    return documents"
   ]
  }
 ],
 "metadata": {
  "kernelspec": {
   "display_name": "medicalchatbot",
   "language": "python",
   "name": "python3"
  },
  "language_info": {
   "codemirror_mode": {
    "name": "ipython",
    "version": 3
   },
   "file_extension": ".py",
   "mimetype": "text/x-python",
   "name": "python",
   "nbconvert_exporter": "python",
   "pygments_lexer": "ipython3",
   "version": "3.8.18"
  }
 },
 "nbformat": 4,
 "nbformat_minor": 2
}
